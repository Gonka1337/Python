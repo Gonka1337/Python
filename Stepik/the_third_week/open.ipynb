{
 "cells": [
  {
   "cell_type": "markdown",
   "metadata": {},
   "source": [
    "# Чтение из файла"
   ]
  },
  {
   "cell_type": "code",
   "execution_count": 10,
   "metadata": {},
   "outputs": [],
   "source": [
    "inf = open('file.txt', 'r') # open('file.txt')"
   ]
  },
  {
   "cell_type": "code",
   "execution_count": 11,
   "metadata": {},
   "outputs": [],
   "source": [
    "s1 = inf.readline()"
   ]
  },
  {
   "cell_type": "code",
   "execution_count": 12,
   "metadata": {},
   "outputs": [],
   "source": [
    "s2 = inf.readline()"
   ]
  },
  {
   "cell_type": "code",
   "execution_count": 13,
   "metadata": {},
   "outputs": [],
   "source": [
    "inf.close()"
   ]
  },
  {
   "cell_type": "code",
   "execution_count": 14,
   "metadata": {},
   "outputs": [],
   "source": [
    "with open('text.txt') as inf:\n",
    "    s1 = inf.readline()\n",
    "    s2 = inf.readline()\n",
    "    \n",
    "# здесь файл уже закрыт"
   ]
  },
  {
   "cell_type": "markdown",
   "metadata": {},
   "source": [
    "# Пара полезных функций"
   ]
  },
  {
   "cell_type": "code",
   "execution_count": 15,
   "metadata": {},
   "outputs": [
    {
     "ename": "AttributeError",
     "evalue": "'builtin_function_or_method' object has no attribute 'strip'",
     "output_type": "error",
     "traceback": [
      "\u001b[1;31m---------------------------------------------------------------------------\u001b[0m",
      "\u001b[1;31mAttributeError\u001b[0m                            Traceback (most recent call last)",
      "\u001b[1;32m<ipython-input-15-8f154db93d60>\u001b[0m in \u001b[0;36m<module>\u001b[1;34m\u001b[0m\n\u001b[1;32m----> 1\u001b[1;33m \u001b[0ms\u001b[0m \u001b[1;33m=\u001b[0m \u001b[0minf\u001b[0m\u001b[1;33m.\u001b[0m\u001b[0mreadline\u001b[0m\u001b[1;33m.\u001b[0m\u001b[0mstrip\u001b[0m\u001b[1;33m(\u001b[0m\u001b[1;33m)\u001b[0m\u001b[1;33m\u001b[0m\u001b[1;33m\u001b[0m\u001b[0m\n\u001b[0m",
      "\u001b[1;31mAttributeError\u001b[0m: 'builtin_function_or_method' object has no attribute 'strip'"
     ]
    }
   ],
   "source": [
    "s = inf.readline.strip()"
   ]
  },
  {
   "cell_type": "code",
   "execution_count": null,
   "metadata": {},
   "outputs": [],
   "source": [
    "'\\t abc \\n'.strip()"
   ]
  },
  {
   "cell_type": "code",
   "execution_count": null,
   "metadata": {},
   "outputs": [],
   "source": [
    "os.path.join('.', 'dirname', 'filename.txt')"
   ]
  },
  {
   "cell_type": "code",
   "execution_count": null,
   "metadata": {},
   "outputs": [],
   "source": [
    "'.\\dirname\\filename.txt'"
   ]
  },
  {
   "cell_type": "markdown",
   "metadata": {},
   "source": [
    "# Построчное чтение файла"
   ]
  },
  {
   "cell_type": "code",
   "execution_count": null,
   "metadata": {},
   "outputs": [],
   "source": [
    "with open('input.txt') as inf:\n",
    "    for line in inf:\n",
    "        line = line.strip()\n",
    "        print(line)"
   ]
  },
  {
   "cell_type": "markdown",
   "metadata": {},
   "source": [
    "# Запись в файл"
   ]
  },
  {
   "cell_type": "code",
   "execution_count": null,
   "metadata": {},
   "outputs": [],
   "source": [
    "ouf = open('file.txt', 'w')"
   ]
  },
  {
   "cell_type": "code",
   "execution_count": null,
   "metadata": {},
   "outputs": [],
   "source": [
    "ouf.write('Some text\\n')"
   ]
  },
  {
   "cell_type": "code",
   "execution_count": null,
   "metadata": {},
   "outputs": [],
   "source": [
    "ouf.write(str(25))"
   ]
  },
  {
   "cell_type": "code",
   "execution_count": null,
   "metadata": {},
   "outputs": [],
   "source": [
    "ouf.close()"
   ]
  },
  {
   "cell_type": "code",
   "execution_count": null,
   "metadata": {},
   "outputs": [],
   "source": [
    "with open('file.txt', 'w') as ouf:\n",
    "    ouf.write('Some text\\n')\n",
    "    ouf.write(str(25))\n",
    "    \n",
    "# здесь файл уже закрыт"
   ]
  },
  {
   "cell_type": "markdown",
   "metadata": {},
   "source": [
    "На прошлой неделе мы сжимали строки, используя кодирование повторов. Теперь нашей задачей будет восстановление исходной строки обратно.\n",
    "\n",
    "Напишите программу, которая считывает из файла строку, соответствующую тексту, сжатому с помощью кодирования повторов, и производит обратную операцию, получая исходный текст.\n",
    "\n",
    "Запишите полученный текст в файл и прикрепите его, как ответ на это задание.\n",
    "\n",
    "В исходном тексте не встречаются цифры, так что код однозначно интерпретируем."
   ]
  },
  {
   "cell_type": "code",
   "execution_count": null,
   "metadata": {},
   "outputs": [],
   "source": [
    "with open('dataset_3363_2 .txt') as inf:\n",
    "    for line in inf:\n",
    "        line = line.strip()\n",
    "        c=str()\n",
    "        d=str()\n",
    "        for i in reversed(line):\n",
    "            if '0'<= i <='9':\n",
    "                c+=i\n",
    "            else:\n",
    "                c=c[::-1]\n",
    "                d+=(i*int(c))\n",
    "                c=str()\n",
    "with open('text.txt','w') as ouf:\n",
    "    ouf.write(d[::-1])"
   ]
  },
  {
   "cell_type": "markdown",
   "metadata": {},
   "source": [
    "Недавно мы считали для каждого слова количество его вхождений в строку. Но на все слова может быть не так интересно смотреть, как, например, на наиболее часто используемые.\n",
    "\n",
    "Напишите программу, которая считывает текст из файла (в файле может быть больше одной строки) и выводит самое частое слово в этом тексте и через пробел то, сколько раз оно встретилось. Если таких слов несколько, вывести лексикографически первое (можно использовать оператор < для строк).\n",
    "\n",
    "В качестве ответа укажите вывод программы, а не саму программу.\n",
    "\n",
    "Слова, написанные в разных регистрах, считаются одинаковыми.\n",
    "        "
   ]
  },
  {
   "cell_type": "code",
   "execution_count": 45,
   "metadata": {},
   "outputs": [],
   "source": [
    "with open('dataset_3363_3 (19).txt','r') as inf:\n",
    "    l=''\n",
    "    for line in inf.readlines():\n",
    "        l+=line.lower()\n",
    "d={value:l.split().count(value) for value in l.split()}\n",
    "for keys,values in d.items():\n",
    "    if  values == max(d.values()):\n",
    "        max_val=values\n",
    "        min_key=keys\n",
    "for keys,values in d.items():\n",
    "    if  values == max(d.values()):\n",
    "        if keys<min_key:\n",
    "            min_key=keys\n",
    "with open('file.txt', 'w') as ouf:\n",
    "    ouf.write(str(min_key))\n",
    "    ouf.write(' ')\n",
    "    ouf.write(str(max_val))\n",
    "\n",
    "\n",
    "            \n",
    "     \n",
    "        "
   ]
  },
  {
   "cell_type": "markdown",
   "metadata": {},
   "source": [
    "Имеется файл с данными по успеваемости абитуриентов. Он представляет из себя набор строк, где в каждой строке записана следующая информация:\n",
    "\n",
    "Фамилия;Оценка_по_математике;Оценка_по_физике;Оценка_по_русскому_языку\n",
    "\n",
    "Поля внутри строки разделены точкой с запятой, оценки — целые числа.\n",
    "\n",
    "Напишите программу, которая считывает файл с подобной структурой и для каждого абитуриента выводит его среднюю оценку по этим трём предметам на отдельной строке, соответствующей этому абитуриенту.\n",
    "\n",
    "Также в конце файла, на отдельной строке, через пробел запишите средние баллы по математике, физике и русскому языку по всем абитуриентам.\n",
    "\n",
    "В качестве ответа на задание прикрепите полученный файл со средними оценками.\n",
    "\n",
    "Примечание. Для разбиения строки на части по символу ';' можно использовать метод split следующим образом:"
   ]
  },
  {
   "cell_type": "code",
   "execution_count": 91,
   "metadata": {},
   "outputs": [],
   "source": [
    "with open('dataset_3363_4 (3).txt','r') as inf:\n",
    "    s=[]\n",
    "    d=[]\n",
    "    c=0\n",
    "    p=0\n",
    "    g=0\n",
    "    for line in inf.readlines():\n",
    "        line=line.strip()\n",
    "        s.append(line.split(';'))\n",
    "    for i in s:\n",
    "        while len(i)>3:\n",
    "            i.remove(i[0])\n",
    "    for i in s:\n",
    "        for j in i:\n",
    "            c+=1\n",
    "            if c != len(i):\n",
    "                p+=int(j)\n",
    "            else:\n",
    "                p+=int(j)\n",
    "                d.append(str(round(p/len(i),9)))\n",
    "                with open('file.txt','w') as ouf:\n",
    "                    for line in d:\n",
    "                        ouf.write(line+'\\n')\n",
    "                c=0\n",
    "                p=0\n",
    "    for i in s:\n",
    "        if i[g]:\n",
    "            c+=1\n",
    "            p+=int(i[g])\n",
    "    v=p/c\n",
    "    with open('file.txt', 'a') as ouf:\n",
    "        ouf.write(str(round(v,9))+' ')\n",
    "    p=0\n",
    "    c=0\n",
    "    g+=1\n",
    "    for i in s:\n",
    "        if i[g]:\n",
    "            c+=1\n",
    "            p+=int(i[g])\n",
    "    v=p/c\n",
    "    with open('file.txt', 'a') as ouf:\n",
    "        ouf.write(str(round(v,9))+' ')\n",
    "    p=0\n",
    "    c=0\n",
    "    g+=1\n",
    "    for i in s:\n",
    "        if i[g]:\n",
    "            c+=1\n",
    "            p+=int(i[g])\n",
    "    v=p/c\n",
    "    with open('file.txt', 'a') as ouf:\n",
    "        ouf.write(str(round(v,9))+' ')\n",
    "    p=0\n",
    "    c=0"
   ]
  },
  {
   "cell_type": "code",
   "execution_count": null,
   "metadata": {},
   "outputs": [],
   "source": []
  }
 ],
 "metadata": {
  "kernelspec": {
   "display_name": "Python 3",
   "language": "python",
   "name": "python3"
  },
  "language_info": {
   "codemirror_mode": {
    "name": "ipython",
    "version": 3
   },
   "file_extension": ".py",
   "mimetype": "text/x-python",
   "name": "python",
   "nbconvert_exporter": "python",
   "pygments_lexer": "ipython3",
   "version": "3.7.6"
  }
 },
 "nbformat": 4,
 "nbformat_minor": 4
}
