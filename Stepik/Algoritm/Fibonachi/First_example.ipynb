{
 "cells": [
  {
   "cell_type": "markdown",
   "metadata": {},
   "source": [
    "# Числа Фибоначи\n",
    "\n",
    "Данно целое число 1 <= n <= 40 необходимо вычислить n-e число\n",
    "Фибоначи (напомним, что F0=0, F1=1 и Fn-1+Fn-2 при n >=2 )"
   ]
  },
  {
   "cell_type": "code",
   "execution_count": 81,
   "metadata": {},
   "outputs": [],
   "source": [
    "def fib(n):\n",
    "    if 1 <= n <= 40:\n",
    "        f=[0,1]\n",
    "        for i in range(2,n+1):\n",
    "            f.append((f[i-1]+f[i-2]))\n",
    "        return f[n]"
   ]
  },
  {
   "cell_type": "code",
   "execution_count": 82,
   "metadata": {},
   "outputs": [
    {
     "data": {
      "text/plain": [
       "2"
      ]
     },
     "execution_count": 82,
     "metadata": {},
     "output_type": "execute_result"
    }
   ],
   "source": [
    "fib(3)"
   ]
  },
  {
   "cell_type": "markdown",
   "metadata": {},
   "source": [
    "Дано число 1 <= n <= 10^7, необходимо найти последнюю цифру nn-го числа Фибоначчи.\n",
    "\n",
    "Как мы помним, числа Фибоначчи растут очень быстро, поэтому при их вычислении нужно быть аккуратным с переполнением. В данной задаче, впрочем, этой проблемы можно избежать, поскольку нас интересует только последняя цифра числа Фибоначчи: если 0<=a, b<=9 — последние цифры чисел Fi и Fi+1 cоответственно, то (a+b) mod10 — последняя цифра числа F i+2."
   ]
  },
  {
   "cell_type": "code",
   "execution_count": 9,
   "metadata": {},
   "outputs": [],
   "source": [
    "def fib_digit(n):\n",
    "    if 1 <= n <= 10**7:\n",
    "        f=[0,1]\n",
    "        for i in range(2,n+1):\n",
    "            f.append((f[i-1]+f[i-2])%10)\n",
    "        return f[n]\n",
    "      \n",
    "    \n",
    "        "
   ]
  },
  {
   "cell_type": "code",
   "execution_count": 12,
   "metadata": {},
   "outputs": [
    {
     "data": {
      "text/plain": [
       "0"
      ]
     },
     "execution_count": 12,
     "metadata": {},
     "output_type": "execute_result"
    }
   ],
   "source": [
    "fib_digit(720)\n",
    "    \n",
    "        \n",
    "\n"
   ]
  },
  {
   "cell_type": "markdown",
   "metadata": {},
   "source": [
    "Даны целые числа 1 <= n <= 10^18 и 2 <= m <= 10^5, необходимо найти остаток от деления n-го числа Фибоначчи на m."
   ]
  },
  {
   "cell_type": "code",
   "execution_count": 36,
   "metadata": {},
   "outputs": [],
   "source": [
    "def fib_mod(n, m):\n",
    "    if 1 <= n <= 10**18 and 2<= m <=10**5:\n",
    "        f=[0,1]\n",
    "        for i in range(2,n+1):\n",
    "            f.append((f[i-1]+f[i-2])%m)\n",
    "            if f[-1]==1 and f[-2]==0 and len(f)!=n:\n",
    "                return(f[n%(len(f)-2)])\n",
    "                break\n",
    "            else:\n",
    "                if len(f)==n+1:\n",
    "                    return(f[n%m])\n",
    "                    break"
   ]
  },
  {
   "cell_type": "code",
   "execution_count": 69,
   "metadata": {},
   "outputs": [],
   "source": [
    "fib_mod(2, 4)\n",
    "    "
   ]
  },
  {
   "cell_type": "markdown",
   "metadata": {},
   "source": [
    "# Наибольший общий делитель"
   ]
  },
  {
   "cell_type": "markdown",
   "metadata": {},
   "source": [
    "По данным двум числам 1≤a,b≤2⋅10^9 найдите их наибольший общий делитель."
   ]
  },
  {
   "cell_type": "code",
   "execution_count": 42,
   "metadata": {},
   "outputs": [],
   "source": [
    "def gcd(a, b):\n",
    "    if 1<=a and b<=2*10**9:\n",
    "        while a!=0 and b!=0:\n",
    "            if a>=b:\n",
    "                a=a%b\n",
    "            else:\n",
    "                b=b%a\n",
    "        else:\n",
    "            if a==0:\n",
    "                return(b)\n",
    "            else:\n",
    "                return(a)\n"
   ]
  },
  {
   "cell_type": "code",
   "execution_count": null,
   "metadata": {},
   "outputs": [],
   "source": []
  }
 ],
 "metadata": {
  "kernelspec": {
   "display_name": "Python 3",
   "language": "python",
   "name": "python3"
  },
  "language_info": {
   "codemirror_mode": {
    "name": "ipython",
    "version": 3
   },
   "file_extension": ".py",
   "mimetype": "text/x-python",
   "name": "python",
   "nbconvert_exporter": "python",
   "pygments_lexer": "ipython3",
   "version": "3.7.6"
  }
 },
 "nbformat": 4,
 "nbformat_minor": 4
}
